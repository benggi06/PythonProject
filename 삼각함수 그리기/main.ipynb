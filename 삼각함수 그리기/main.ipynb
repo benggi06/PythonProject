{
 "cells": [
  {
   "cell_type": "code",
   "execution_count": 17,
   "id": "5d2e91c4",
   "metadata": {},
   "outputs": [],
   "source": [
    "from util import header"
   ]
  },
  {
   "cell_type": "code",
   "execution_count": 25,
   "id": "0d313e17",
   "metadata": {},
   "outputs": [],
   "source": [
    "import prt_anglefns"
   ]
  },
  {
   "cell_type": "code",
   "execution_count": 28,
   "id": "8682cea6",
   "metadata": {},
   "outputs": [],
   "source": [
    "\n",
    "def main():\n",
    "    prt_anglefns.print_anglefns('math.cos',0,360,71,360)\n"
   ]
  },
  {
   "cell_type": "code",
   "execution_count": 29,
   "id": "2d1ee422",
   "metadata": {},
   "outputs": [
    {
     "name": "stdout",
     "output_type": "stream",
     "text": [
      "**********************\n",
      "*    1-4 Sin_Wave    *\n",
      "*     2022.09.22     *\n",
      "* (c) Bang Gi -Woong *\n",
      "**********************\n",
      "\n",
      " x  ----------------------------------------------------------------------- cos(x)\n",
      "000                                    │                                   *1.000\n",
      "010                                    │                                  * 0.985\n",
      "020                                    │                                *   0.940\n",
      "030                                    │                              *     0.866\n",
      "040                                    │                          *         0.766\n",
      "050                                    │                      *             0.643\n",
      "060                                    │                 *                  0.500\n",
      "070                                    │            *                       0.342\n",
      "080                                    │      *                             0.174\n",
      "090                                    *                                     0.000\n",
      "100                             *      │                                    -0.174\n",
      "110                       *            │                                    -0.342\n",
      "120                  *                 │                                    -0.500\n",
      "130             *                      │                                    -0.643\n",
      "140         *                          │                                    -0.766\n",
      "150     *                              │                                    -0.866\n",
      "160   *                                │                                    -0.940\n",
      "170 *                                  │                                    -0.985\n",
      "180*                                   │                                    -1.000\n",
      "190 *                                  │                                    -0.985\n",
      "200   *                                │                                    -0.940\n",
      "210     *                              │                                    -0.866\n",
      "220         *                          │                                    -0.766\n",
      "230             *                      │                                    -0.643\n",
      "240                  *                 │                                    -0.500\n",
      "250                       *            │                                    -0.342\n",
      "260                             *      │                                    -0.174\n",
      "270                                    *                                     -0.000\n",
      "280                                    │      *                             0.174\n",
      "290                                    │            *                       0.342\n",
      "300                                    │                 *                  0.500\n",
      "310                                    │                      *             0.643\n",
      "320                                    │                          *         0.766\n",
      "330                                    │                              *     0.866\n",
      "340                                    │                                *   0.940\n",
      "350                                    │                                  * 0.985\n",
      "360                                    │                                   *1.000\n"
     ]
    }
   ],
   "source": [
    "header.header_print('1-4 Sin_Wave','2022.09.22','(c) Bang Gi -Woong')\n",
    "print()\n",
    "if __name__=='__main__':\n",
    "    main()"
   ]
  },
  {
   "cell_type": "code",
   "execution_count": null,
   "id": "d1c31269",
   "metadata": {},
   "outputs": [],
   "source": []
  }
 ],
 "metadata": {
  "kernelspec": {
   "display_name": "Python 3 (ipykernel)",
   "language": "python",
   "name": "python3"
  },
  "language_info": {
   "codemirror_mode": {
    "name": "ipython",
    "version": 3
   },
   "file_extension": ".py",
   "mimetype": "text/x-python",
   "name": "python",
   "nbconvert_exporter": "python",
   "pygments_lexer": "ipython3",
   "version": "3.9.12"
  }
 },
 "nbformat": 4,
 "nbformat_minor": 5
}

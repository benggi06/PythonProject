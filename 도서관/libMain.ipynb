{
 "cells": [
  {
   "cell_type": "code",
   "execution_count": 3,
   "id": "345082e1",
   "metadata": {},
   "outputs": [],
   "source": [
    "import lib \n",
    "import header as hd\n",
    "godeokLibrary=lib.Library()#도서관 객체 생성\n",
    "\n",
    "def main():\n",
    "    print('고덕평생학습관 입니다. 메뉴얼을 선택해주세요.')\n",
    "    while True:\n",
    "        ch=input('1. 도서관 관리기능, 2.사용자 서비스기능, 3.시스템 종료')\n",
    "        if ch=='1':\n",
    "            libraryManage=input('''1.도서 등록, 2.대출 현황 보기, 3.예약 현황 보기, 4.전체 회원 보기,  \n",
    "            5.도서관 웹사이트, 6.도서 목록확인, 7.뒤로 가기''')\n",
    "\n",
    "            if libraryManage=='1':godeokLibrary.addBook()    \n",
    "            elif libraryManage=='2':godeokLibrary.showloan()   \n",
    "            elif libraryManage=='3':godeokLibrary.showreserve()   \n",
    "            elif libraryManage=='4':godeokLibrary.showpeople()\n",
    "            elif libraryManage=='5':godeokLibrary.openweb()    \n",
    "            elif libraryManage=='6':godeokLibrary.showBookList()    \n",
    "            else:\n",
    "                print('제대로 입력해주세요.')\n",
    "                continue\n",
    "\n",
    "        elif ch=='2':\n",
    "            peopleManage=input('''1.회원 등록, 2.도서 대출, 3.도서 반납, 4.도서 예약, \n",
    "            5.회원 목록, 6.도서 검색, 7.회원 검색, 8. 뒤로가기''')\n",
    "            if peopleManage=='1':godeokLibrary.addpeople()    \n",
    "            elif peopleManage=='2':godeokLibrary.loanbook()    \n",
    "            elif peopleManage=='3':godeokLibrary.rebook()    \n",
    "            elif peopleManage=='4':godeokLibrary.reservemessege()    \n",
    "            elif peopleManage=='5':godeokLibrary.showpeople()    \n",
    "            elif peopleManage=='6':godeokLibrary.searbook() \n",
    "            elif peopleManage=='7':godeokLibrary.searmember()\n",
    "            elif peopleManage=='8':continue\n",
    "            else:\n",
    "                print('제대로 입력해주세요.')\n",
    "                continue\n",
    "\n",
    "        elif ch=='3':\n",
    "            print('시스템을 종료합니다.')\n",
    "            break\n",
    "\n",
    "        else:print('다시 입력하세요.')\n",
    "       "
   ]
  },
  {
   "cell_type": "code",
   "execution_count": 4,
   "id": "69f04fdb",
   "metadata": {},
   "outputs": [
    {
     "name": "stdout",
     "output_type": "stream",
     "text": [
      "**********************\n",
      "*    1-4 Sin_Wave    *\n",
      "*     2022.09.22     *\n",
      "* (c) Bang Gi -Woong *\n",
      "**********************\n",
      "\n",
      "고덕평생학습관 입니다. 메뉴얼을 선택해주세요.\n",
      "1. 도서관 관리기능, 2.사용자 서비스기능, 3.시스템 종료3\n",
      "시스템을 종료합니다.\n"
     ]
    }
   ],
   "source": [
    "hd.header_print('1-4 Sin_Wave','2022.09.22','(c) Bang Gi -Woong')\n",
    "print()\n",
    "if __name__=='__main__':\n",
    "    main()"
   ]
  },
  {
   "cell_type": "code",
   "execution_count": null,
   "id": "7c05f2e4",
   "metadata": {},
   "outputs": [],
   "source": []
  }
 ],
 "metadata": {
  "kernelspec": {
   "display_name": "Python 3 (ipykernel)",
   "language": "python",
   "name": "python3"
  },
  "language_info": {
   "codemirror_mode": {
    "name": "ipython",
    "version": 3
   },
   "file_extension": ".py",
   "mimetype": "text/x-python",
   "name": "python",
   "nbconvert_exporter": "python",
   "pygments_lexer": "ipython3",
   "version": "3.9.12"
  }
 },
 "nbformat": 4,
 "nbformat_minor": 5
}
